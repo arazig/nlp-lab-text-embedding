{
 "cells": [
  {
   "cell_type": "markdown",
   "metadata": {},
   "source": [
    "#  NLP-lab :  Word embeddings\n",
    "\n",
    "In this series of exercises, we will explore three word embeddings:\n",
    "\n",
    "* [Collobert & Weston](http://www.jmlr.org/papers/volume12/collobert11a/collobert11a.pdf) https://ronan.collobert.com/senna/\n",
    "* [Word2Vec](https://arxiv.org/abs/1301.3781)\n",
    "* [BERT](https://huggingface.co/bert-base-uncased) \n",
    "\n",
    "\n",
    "In the code already provided, add your code to the place indicated by `YOUR CODE HERE`.\n",
    "\n",
    "**Important** : do NOT commit the data and embedding files in your repository git : it is a waste of resources and it takes more time to clone.\n",
    "> Use https://docs.github.com/en/get-started/getting-started-with-git/ignoring-files\n"
   ]
  },
  {
   "cell_type": "code",
   "execution_count": 2,
   "metadata": {},
   "outputs": [],
   "source": [
    "# basic imports\n",
    "import os\n",
    "import matplotlib.pyplot as plt\n",
    "# display matplotlib graphics in notebook\n",
    "%matplotlib inline \n",
    "import seaborn as sns\n",
    "\n",
    "# disable warnings for libraries\n",
    "import warnings\n",
    "warnings.filterwarnings(\"ignore\")\n",
    "\n",
    "# configure logger\n",
    "import logging\n",
    "logging.basicConfig(format='%(asctime)s %(levelname)s:%(message)s', level=logging.INFO, datefmt='%I:%M:%S')\n",
    "logger = logging.getLogger(__name__) \n",
    "\n"
   ]
  },
  {
   "cell_type": "markdown",
   "metadata": {},
   "source": [
    "###  Embeddings exploration with Collobert's embeddings\n",
    "\n",
    "Upload the files containing the embeddings to `data`:\n",
    "* Collobert (size 50): [collobert_embeddings.txt.zip](https://storage.teklia.com/shared/deepnlp-labs/collobert_embeddings.txt.zip) which contains the embedding vectors and [collobert_words.lst](https://storage.teklia.com/shared/deepnlp-labs/collobert_words.lst) which contains the associated words;\n",
    "\n",
    "You need to unzip the files to load them.\n",
    "\n",
    "Feel free to open the files to see what they contain (it's sometimes surprising).\n",
    "\n",
    "#### Question: \n",
    ">* Add the files to your .gitignore\n",
    ">* Give the size in Mb of the embeddings files before unzipping.\n",
    ">* By exploring the content of the embedding files, give the number of words for which these files provide embeddings.\n",
    "\n"
   ]
  },
  {
   "cell_type": "code",
   "execution_count": 3,
   "metadata": {},
   "outputs": [
    {
     "name": "stderr",
     "output_type": "stream",
     "text": [
      "02:50:06 INFO:Size of the file collobert_embeddings.txt : 56.67657947540283 Mb\n"
     ]
    }
   ],
   "source": [
    "# Taille du fichier collobert_embeddings.txt en Mb : \n",
    "logger.info(\"Size of the file collobert_embeddings.txt : %s Mb\", os.path.getsize(\"/users/eleves-a/2024/amine.razig/nlp-lab-text-embedding/collobert_embeddings.txt\")/1024/1024)\n"
   ]
  },
  {
   "cell_type": "markdown",
   "metadata": {},
   "source": [
    "**Answer** : \n",
    "- In the file we notice 130,000 lines which corresponds to 130,000 words which were expedient by a vector in the space of the Embedding."
   ]
  },
  {
   "cell_type": "markdown",
   "metadata": {},
   "source": [
    "### List of closest words\n",
    "\n",
    "The aim of this exercise is to list the closest words to a given word for the Collobert embedding. First, we'll load the vectors of the Collobert embedding into a numpy array and the associated words into a python list. Then we'll use the [scipy KDTree](https://docs.scipy.org/doc/scipy/reference/generated/scipy.spatial.KDTree.html) data structure to quickly search for the vectors closest to a series of words.\n",
    "\n",
    "\n",
    "#### Question: \n",
    ">* load embedding vectors from the file `data/collobert_embeddings.txt` using the numpy function [genfromtxt](https://numpy.org/doc/stable/reference/generated/numpy.genfromtxt.html)\n",
    ">* load the words associated with the vectors from the `data/collobert_words.lst` file into a python list (using `open()` and `readlines()`)\n",
    ">* check that the sizes are correct\n"
   ]
  },
  {
   "cell_type": "code",
   "execution_count": 4,
   "metadata": {},
   "outputs": [
    {
     "name": "stdout",
     "output_type": "stream",
     "text": [
      "- Number of embeddings : 130000, each one of size 50\n",
      "- Number of words : 130000\n"
     ]
    }
   ],
   "source": [
    "import numpy as np\n",
    "\n",
    "# embedding vectors\n",
    "embeddings = np.genfromtxt(\"/users/eleves-a/2024/amine.razig/nlp-lab-text-embedding/collobert_embeddings.txt\")\n",
    "\n",
    "# words\n",
    "with open(\"/users/eleves-a/2024/amine.razig/nlp-lab-text-embedding/collobert_words.lst\") as f:\n",
    "    words = f.readlines()\n",
    "\n",
    "print(f\"- Number of embeddings : {embeddings.shape[0]}, each one of size {embeddings.shape[1]}\")\n",
    "print(f\"- Number of words : {len(words)}\")\n"
   ]
  },
  {
   "cell_type": "markdown",
   "metadata": {},
   "source": [
    "KD trees are a very efficient data structure for storing large sets of points in a multi-dimensional space and performing very efficient nearest-neighbour searches. \n",
    "\n",
    "#### Question \n",
    "> * Initialise the [KDTree](https://docs.scipy.org/doc/scipy/reference/generated/scipy.spatial.KDTree.html) structure with Collobert's embedding vectors.\n",
    "> * Using the [tree.query](https://docs.scipy.org/doc/scipy/reference/generated/scipy.spatial.KDTree.query.html#scipy.spatial.KDTree.query) function, display the 5 nearest words for the following words: ‘mother’, ‘computer’, ‘dentist’, ‘war’, ‘president’, ‘secretary’, ‘nurse’.  *Hint: you can use the function `collobert_words.index(w)` to obtain the index of a word in the list of words*.\n",
    "> * Create a `words_plus_neighbors` list containing the words and all their neighbours (for the next question)"
   ]
  },
  {
   "cell_type": "code",
   "execution_count": 5,
   "metadata": {},
   "outputs": [
    {
     "data": {
      "text/plain": [
       "{'mother': ['mother', 'daughter', 'wife', 'father', 'husband', 'son'],\n",
       " 'computer': ['computer',\n",
       "  'laptop',\n",
       "  'multimedia',\n",
       "  'desktop',\n",
       "  'software',\n",
       "  'wiki'],\n",
       " 'dentist': ['dentist',\n",
       "  'pharmacist',\n",
       "  'midwife',\n",
       "  'physician',\n",
       "  'housekeeper',\n",
       "  'veterinarian'],\n",
       " 'war': ['war', 'revolution', 'death', 'court', 'independence', 'history'],\n",
       " 'president': ['president',\n",
       "  'governor',\n",
       "  'chairman',\n",
       "  'mayor',\n",
       "  'secretary',\n",
       "  'senator'],\n",
       " 'secretary': ['secretary',\n",
       "  'minister',\n",
       "  'treasurer',\n",
       "  'chairman',\n",
       "  'commissioner',\n",
       "  'undersecretary'],\n",
       " 'nurse': ['nurse',\n",
       "  'physician',\n",
       "  'veterinarian',\n",
       "  'dentist',\n",
       "  'surgeon',\n",
       "  'midwife']}"
      ]
     },
     "execution_count": 5,
     "metadata": {},
     "output_type": "execute_result"
    }
   ],
   "source": [
    "from scipy import spatial\n",
    "# YOUR CODE HERE\n",
    "\n",
    "tree = spatial.KDTree(embeddings)\n",
    "\n",
    "target_words = ['mother', 'computer', 'dentist', 'war', 'president', 'secretary', 'nurse']\n",
    "\n",
    "words_plus_neighbors = {}\n",
    "\n",
    "for word in target_words:\n",
    "\n",
    "    index = words.index(word + '\\n')\n",
    "    distances, indices = tree.query(embeddings[index], k=6)\n",
    "    words_plus_neighbors[word] = [words[i].strip() for i in indices]\n",
    "\n",
    "words_plus_neighbors\n",
    " "
   ]
  },
  {
   "cell_type": "code",
   "execution_count": 6,
   "metadata": {},
   "outputs": [
    {
     "data": {
      "text/plain": [
       "{'chairman',\n",
       " 'commissioner',\n",
       " 'computer',\n",
       " 'court',\n",
       " 'daughter',\n",
       " 'death',\n",
       " 'dentist',\n",
       " 'desktop',\n",
       " 'father',\n",
       " 'governor',\n",
       " 'history',\n",
       " 'housekeeper',\n",
       " 'husband',\n",
       " 'independence',\n",
       " 'laptop',\n",
       " 'mayor',\n",
       " 'midwife',\n",
       " 'minister',\n",
       " 'mother',\n",
       " 'multimedia',\n",
       " 'nurse',\n",
       " 'pharmacist',\n",
       " 'physician',\n",
       " 'president',\n",
       " 'revolution',\n",
       " 'secretary',\n",
       " 'senator',\n",
       " 'software',\n",
       " 'son',\n",
       " 'surgeon',\n",
       " 'treasurer',\n",
       " 'undersecretary',\n",
       " 'veterinarian',\n",
       " 'war',\n",
       " 'wife',\n",
       " 'wiki'}"
      ]
     },
     "execution_count": 6,
     "metadata": {},
     "output_type": "execute_result"
    }
   ],
   "source": [
    "\n",
    "#list of unique words from the neighbors\n",
    "\n",
    "words_from_neighbors =  list(words_plus_neighbors.values())\n",
    "words_from_neighbors = set([element for sublist in words_from_neighbors for element in sublist])\n",
    "words_from_neighbors"
   ]
  },
  {
   "cell_type": "markdown",
   "metadata": {},
   "source": [
    "### Visualisation with T-SNE\n",
    "\n",
    "Embeddings are vectors with several hundred dimensions. It is therefore not possible to display them in their original space. However, it is possible to apply dimension reduction algorithms to display them in 2 or 3 dimensions. One of the dimension reduction algorithms allowing 2D visualisation is [tSNE](https://en.wikipedia.org/wiki/T-distributed_stochastic_neighbor_embedding). \n",
    "\n",
    "#### Question\n",
    "> * Create a `word_vectors` object of type `np.array` from a list containing all the embeddings of the words in the `words_plus_neighbors` list.\n",
    "> * Create a tSNE object from the `from sklearn.manifold import TSNE` library with the parameters `random_state=0`, `n_iter=2000` and `perplexity=15.0` for a 2-dimensional view.\n",
    "> * Calculate *T* the tSNE transformation of the `word_vectors` by applying function `.fit_transform(word_vectors)` to the tSNE object. This function estimates the parameters of the tSNE transformation and returns the reduced-dimension representation of the vectors used for estimation.\n",
    "> * Use the `scatterplot` function from [seaborn](https://seaborn.pydata.org/generated/seaborn.scatterplot.html) to represent points in 2 dimensions and add word labels using the `plt.annotate` function."
   ]
  },
  {
   "cell_type": "code",
   "execution_count": 8,
   "metadata": {},
   "outputs": [
    {
     "data": {
      "image/png": "[encoded data removed]",
      "text/plain": [
       "<Figure size 1400x800 with 1 Axes>"
      ]
     },
     "metadata": {},
     "output_type": "display_data"
    }
   ],
   "source": [
    "from sklearn.manifold import TSNE\n",
    "# graphics\n",
    "import matplotlib.pyplot as plt\n",
    "# display matplotlib graphics in notebook\n",
    "%matplotlib inline \n",
    "import seaborn as sns\n",
    "\n",
    "# retrieve the word representation\n",
    "word_vectors = np.array([embeddings[words.index(word + '\\n')] for word in words_from_neighbors])    \n",
    "\n",
    "\n",
    "# create the tSNE transform\n",
    "tsne = TSNE(n_components = 2, n_iter = 2000 , perplexity=15.0 , random_state=0)\n",
    "\n",
    "\n",
    "# fit and transform the word vectors, store in T\n",
    "T = tsne.fit_transform(word_vectors)\n",
    "\n",
    "\n",
    "# plot\n",
    "fig = plt.figure()\n",
    "fig.patch.set_facecolor('#f9f9f9')\n",
    "\n",
    "sns.set(rc={'figure.figsize':(14, 8)})\n",
    "sns.set(font_scale=1)\n",
    "\n",
    "sns.scatterplot(x=T[:, 0], y=T[:, 1])\n",
    "\n",
    "for label, x, y in zip(words_plus_neighbors, T[:, 0], T[:, 1]):\n",
    "    plt.annotate(label, xy=(x+1, y+1), xytext=(0, 0), textcoords='offset points')\n",
    "\n"
   ]
  },
  {
   "cell_type": "markdown",
   "metadata": {},
   "source": [
    "### Semantic arithmetic with Word2Vec\n",
    "\n",
    "One of the most original properties of Word2Vec embeddings is that the semantic relationships between vectors can be modelled by arithmetic operations. Given vectors representing the words `king`, `man` and `woman`, it is possible to compute the vector `v` as :  \n",
    "\n",
    "`v = vector(king)-vector(man)+vector(woman)`\n",
    "\n",
    "This operation corresponds to the following semantic relationship: *The king is to the man what the queen is to the woman*, which translates into the following arithmetic: *the concept of king, minus the concept of man plus the concept of woman gives the concept of queen*.\n",
    "\n",
    "In fact, if we look in the embedding for the word whose closest vector is `v`, we find `reine`.\n",
    "\n",
    "\n",
    "We will use a Word2Vec model pre-trained on the French Wac corpus.  This model has been trained on a corpus of 1 billion French words. \n",
    "\n",
    "This embedding is available in 2 formats:\n",
    "- a text format for easy exploration of the model :\n",
    "    - frWac_non_lem_no_postag_no_phrase_200_cbow_cut100.txt](https://storage.teklia.com/shared/deepnlp-labs/frWac_non_lem_no_postag_no_phrase_200_cbow_cut100.txt)\n",
    "- a binary format that can be loaded using the Gensim library: \n",
    "    - [enWac_non_lem_no_postag_no_phrase_200_cbow_cut100.bin](https://storage.teklia.com/shared/deepnlp-labs/frWac_non_lem_no_postag_no_phrase_200_cbow_cut100.bin)\n",
    "\n",
    "Download the text file onto your machine to analyse it.\n",
    "\n",
    "#### Question: \n",
    ">* Add the file to your .gitignore\n",
    ">* Give the size in Mb of the embedding files\n",
    ">* By exploring the contents of the embedding file in text format, give the number of words for which this model provides embeddings and the size of the embedding for each word.\n",
    "\n"
   ]
  },
  {
   "cell_type": "code",
   "execution_count": 7,
   "metadata": {},
   "outputs": [
    {
     "name": "stdout",
     "output_type": "stream",
     "text": [
      "Fichier téléchargé et enregistré sous : frWac_non_lem_no_postag_no_phrase_200_cbow_cut100.txt \n",
      "\n",
      "=== Size of the file frWac_non_lem_no_postag_no_phrase_200_cbow_cut100.txt : 585.9197683334351 Mb\n",
      "=== Size of the file frWac_non_lem_no_postag_no_phrase_200_cbow_cut100.bin : 120.21298122406006 Mb\n"
     ]
    }
   ],
   "source": [
    "import requests\n",
    "url = \"https://storage.teklia.com/shared/deepnlp-labs/frWac_non_lem_no_postag_no_phrase_200_cbow_cut100.txt\"\n",
    "file_path = \"frWac_non_lem_no_postag_no_phrase_200_cbow_cut100.txt\"\n",
    "file_path2 = \"frWac_non_lem_no_postag_no_phrase_200_cbow_cut100.bin\"\n",
    "\n",
    "response = requests.get(url)\n",
    "\n",
    "if response.status_code == 200:\n",
    "    with open(file_path, \"wb\") as file:\n",
    "        file.write(response.content)\n",
    "    print(f\"Fichier téléchargé et enregistré sous : {file_path} \\n\")\n",
    "else:\n",
    "    print(f\"Échec du téléchargement. Code d'état : {response.status_code}\")\n",
    "\n",
    "\n",
    "size1 = os.path.getsize(file_path)/1024/1024\n",
    "print(f\"=== Size of the file {file_path} : {size1} Mb\")\n",
    "size2 = os.path.getsize(file_path2)/1024/1024\n",
    "print(f\"=== Size of the file {file_path2} : {size2} Mb\")"
   ]
  },
  {
   "cell_type": "code",
   "execution_count": null,
   "metadata": {},
   "outputs": [],
   "source": [
    "embeddingsW2V = np.genfromtxt(\"/users/eleves-a/2024/amine.razig/nlp-lab-text-embedding/frWac_non_lem_no_postag_no_phrase_200_cbow_cut100.txt\")\n",
    "\n",
    "print(f\"- Number of embeddings : {embeddingsW2V.shape[0]}, each one of size {embeddingsW2V.shape[1]}\")\n"
   ]
  },
  {
   "cell_type": "markdown",
   "metadata": {},
   "source": [
    "#### Word similarity\n",
    "\n",
    "We are now going to use the [Gensim] library (https://radimrehurek.com/gensim/) to load the Word2Vec model and use it. \n",
    "\n",
    "#### Question: \n",
    ">* Modify the following code to load the Word2Vec template file in binary format using [load_word2vec](https://radimrehurek.com/gensim/models/keyedvectors.html#how-to-obtain-word-vectors)\n",
    ">* Choose a couple of words and find the closest words according to the model using [most_similar](https://radimrehurek.com/gensim/models/keyedvectors.html#gensim.models.keyedvectors.KeyedVectors.most_similar)\n",
    ">* To guess the meaning of the words ‘yokohama’, ‘kanto’ and ‘shamisen’, look for their nearest neighbours. Explain the results.\n"
   ]
  },
  {
   "cell_type": "code",
   "execution_count": 9,
   "metadata": {},
   "outputs": [
    {
     "name": "stderr",
     "output_type": "stream",
     "text": [
      "02:51:05 INFO:loading projection weights from frWac_non_lem_no_postag_no_phrase_200_cbow_cut100.bin\n",
      "02:51:07 INFO:KeyedVectors lifecycle event {'msg': 'loaded (155562, 200) matrix of type float32 from frWac_non_lem_no_postag_no_phrase_200_cbow_cut100.bin', 'binary': True, 'encoding': 'utf8', 'datetime': '2025-02-15T14:51:07.157965', 'gensim': '4.3.3', 'python': '3.9.21 (main, Dec  5 2024, 00:00:00) \\n[GCC 11.5.0 20240719 (Red Hat 11.5.0-2)]', 'platform': 'Linux-5.14.0-503.23.2.el9_5.x86_64-x86_64-with-glibc2.34', 'event': 'load_word2vec_format'}\n"
     ]
    },
    {
     "data": {
      "text/plain": [
       "[('commandeur', 0.6844523549079895),\n",
       " ('chevaliers', 0.6799763441085815),\n",
       " ('écuyer', 0.6333731412887573),\n",
       " ('grand-croix', 0.621898353099823),\n",
       " ('preux', 0.6011075377464294),\n",
       " ('chevalerie', 0.5404021143913269),\n",
       " ('légion', 0.5335969924926758),\n",
       " ('honneur', 0.4953608810901642),\n",
       " ('yvain', 0.4855087101459503),\n",
       " ('insignes', 0.4742659330368042)]"
      ]
     },
     "execution_count": 9,
     "metadata": {},
     "output_type": "execute_result"
    }
   ],
   "source": [
    "from gensim.models import KeyedVectors\n",
    "\n",
    "## YOUR CODE HERE\n",
    "embedding_file =\"frWac_non_lem_no_postag_no_phrase_200_cbow_cut100.bin\"\n",
    "model = KeyedVectors.load_word2vec_format(embedding_file, binary=True, unicode_errors=\"ignore\")\n",
    "## YOUR CODE HERE\n",
    "model.most_similar(\"chevalier\")"
   ]
  },
  {
   "cell_type": "markdown",
   "metadata": {},
   "source": [
    "#### Semantic arithmetic\n",
    "\n",
    "One of the most original properties of Word2Vec embeddings is that the semantic relationships between vectors can be modelled by arithmetic operations. Given vectors representing the words `king`, `man` and `woman`, it is possible to compute the vector `v` as :  \n",
    "\n",
    "`v = vector(king)-vector(man)+vector(woman)`\n",
    "\n",
    "This operation corresponds to the following semantic relationship: *The king is to the man what the queen is to the woman*, which translates into the following arithmetic: *the concept of king, minus the concept of man plus the concept of woman gives the concept of queen*.\n",
    "\n",
    "In fact, if we look in the embedding for the word whose closest vector is `v`, we find `reine`.\n",
    "\n",
    "#### Question: \n",
    ">* using the function [most_similar](https://radimrehurek.com/gensim/models/keyedvectors.html#gensim.models.keyedvectors.KeyedVectors.most_similar) specifying the arguments `positive` for the vectors to be added and `negative` for the vectors to be subtracted, check the relationship *the concept of king, minus the concept of man plus the concept of woman gives the concept of queen*.\n",
    ">* Using the same method, find XXX in the following semantic relations\n",
    ">   * Paris is to France what XXX is to Japan.\n",
    ">   * Chevalier is to France what XXX is to Japan."
   ]
  },
  {
   "cell_type": "code",
   "execution_count": 10,
   "metadata": {},
   "outputs": [
    {
     "name": "stdout",
     "output_type": "stream",
     "text": [
      "1. [('reine', 0.6945513486862183), ('duchesse', 0.6247551441192627), ('épouse', 0.6083102822303772), ('régente', 0.5878491997718811), ('duc', 0.5723880529403687), ('épousa', 0.5690740346908569), ('princesse', 0.5680873394012451), ('comtesse', 0.5670515894889832), ('isabeau', 0.5510526299476624), ('belle-mère', 0.523912250995636)]\n",
      "2. [('tokyo', 0.6542136073112488), ('tôkyô', 0.6187594532966614), ('osaka', 0.541408121585846), ('japonaise', 0.537601888179779), ('nagoya', 0.5211064219474792), ('yokohama', 0.511847734451294), ('ueno', 0.5108345150947571), ('kyôto', 0.5066641569137573), ('japonais', 0.5055587291717529), ('shinjuku', 0.49769213795661926)]\n",
      "3. [('samouraï', 0.5616667866706848), ('samouraïs', 0.5008909106254578), ('edo', 0.4938366711139679), ('japonaise', 0.48597386479377747), ('chevaliers', 0.482717901468277), ('nihon', 0.4734313488006592), ('kamakura', 0.46880611777305603), ('kobayashi', 0.46759068965911865), ('abe', 0.4654414653778076), ('samurai', 0.4631076157093048)]\n"
     ]
    }
   ],
   "source": [
    "## YOUR CODE HERE\n",
    "\n",
    "mot1 = model.most_similar(positive=[\"roi\", \"femme\"], negative=[\"homme\"])\n",
    "\n",
    "# Paris is to France what XXX is to Japan.\n",
    "mot2 = model.most_similar(positive=[\"paris\", \"japon\"], negative=[\"france\"])\n",
    "\n",
    "# Chevalier is to France what XXX is to Japan.\n",
    "mot3 = model.most_similar(positive=[\"chevalier\", \"japon\"], negative=[\"france\"])\n",
    "\n",
    "print(f\"1. {mot1}\")\n",
    "print(f\"2. {mot2}\")\n",
    "print(f\"3. {mot3}\")"
   ]
  },
  {
   "cell_type": "markdown",
   "metadata": {},
   "source": [
    "## Contextual embeddings with BERT \n",
    "\n",
    "BERT was one of the first freely available Transformer language models, trained on large corpora. Many other models are available on HuggingFace.\n",
    "\n",
    "As BERT is a contextual model, it is necessary to have it predict whole sentences in order to study the word embeddings it produces. In this section, we will compare the embeddings obtained for polysemous words according to the sentence in which they are used.\n",
    "\n",
    "In English, *plant* has two meanings: plant and vegetable. With a non-contextual embedding, such as Glove or Colobert, these two meanings of the word plus are associated with an identical embedding. With BERT, we'll see that the same word can have several embeddings depending on the context.\n",
    "\n",
    "First, load the BERT model and tokenizer from HuggingFace : "
   ]
  },
  {
   "cell_type": "code",
   "execution_count": 11,
   "metadata": {},
   "outputs": [
    {
     "name": "stderr",
     "output_type": "stream",
     "text": [
      "The cache for model files in Transformers v4.22.0 has been updated. Migrating your old cache. This is a one-time only operation. You can interrupt this and resume the migration later on by calling `transformers.utils.move_cache()`.\n",
      "0it [00:00, ?it/s]\n"
     ]
    },
    {
     "data": {
      "text/plain": [
       "BertModel(\n",
       "  (embeddings): BertEmbeddings(\n",
       "    (word_embeddings): Embedding(30522, 768, padding_idx=0)\n",
       "    (position_embeddings): Embedding(512, 768)\n",
       "    (token_type_embeddings): Embedding(2, 768)\n",
       "    (LayerNorm): LayerNorm((768,), eps=1e-12, elementwise_affine=True)\n",
       "    (dropout): Dropout(p=0.1, inplace=False)\n",
       "  )\n",
       "  (encoder): BertEncoder(\n",
       "    (layer): ModuleList(\n",
       "      (0-11): 12 x BertLayer(\n",
       "        (attention): BertAttention(\n",
       "          (self): BertSdpaSelfAttention(\n",
       "            (query): Linear(in_features=768, out_features=768, bias=True)\n",
       "            (key): Linear(in_features=768, out_features=768, bias=True)\n",
       "            (value): Linear(in_features=768, out_features=768, bias=True)\n",
       "            (dropout): Dropout(p=0.1, inplace=False)\n",
       "          )\n",
       "          (output): BertSelfOutput(\n",
       "            (dense): Linear(in_features=768, out_features=768, bias=True)\n",
       "            (LayerNorm): LayerNorm((768,), eps=1e-12, elementwise_affine=True)\n",
       "            (dropout): Dropout(p=0.1, inplace=False)\n",
       "          )\n",
       "        )\n",
       "        (intermediate): BertIntermediate(\n",
       "          (dense): Linear(in_features=768, out_features=3072, bias=True)\n",
       "          (intermediate_act_fn): GELUActivation()\n",
       "        )\n",
       "        (output): BertOutput(\n",
       "          (dense): Linear(in_features=3072, out_features=768, bias=True)\n",
       "          (LayerNorm): LayerNorm((768,), eps=1e-12, elementwise_affine=True)\n",
       "          (dropout): Dropout(p=0.1, inplace=False)\n",
       "        )\n",
       "      )\n",
       "    )\n",
       "  )\n",
       "  (pooler): BertPooler(\n",
       "    (dense): Linear(in_features=768, out_features=768, bias=True)\n",
       "    (activation): Tanh()\n",
       "  )\n",
       ")"
      ]
     },
     "execution_count": 11,
     "metadata": {},
     "output_type": "execute_result"
    }
   ],
   "source": [
    "import torch\n",
    "from transformers import BertTokenizer, BertModel\n",
    "tokenizer = BertTokenizer.from_pretrained('bert-base-uncased')\n",
    "# Load pre-trained model \n",
    "model = BertModel.from_pretrained('bert-base-uncased',\n",
    "                                  output_hidden_states = True, # to access the hidden states\n",
    "                                  )\n",
    "# set the model to \"evaluation\" mode\n",
    "model.eval()"
   ]
  },
  {
   "cell_type": "markdown",
   "metadata": {},
   "source": [
    "### Tokenizer\n",
    "\n",
    "Language models are trained with a specific breakdown of sentences into tokens. These tokens can be words or parts of words. It is necessary to use the tokenizer corresponding to each model.\n",
    "\n",
    "tokenizer.vocab.keys() gives the list of all the tokens known for the language model. \n",
    "\n",
    "#### Question\n",
    ">* How many different tokens are known to the BERT tokenizer?\n",
    ">* Display a hundred tokens at random. What do you find?"
   ]
  },
  {
   "cell_type": "code",
   "execution_count": 12,
   "metadata": {},
   "outputs": [
    {
     "name": "stdout",
     "output_type": "stream",
     "text": [
      "The number of tokens in the tokenizer : 30522\n"
     ]
    },
    {
     "data": {
      "text/plain": [
       "['ol',\n",
       " 'topped',\n",
       " 'surrendered',\n",
       " '##ot',\n",
       " '##fs',\n",
       " '##yuki',\n",
       " 'quadrant',\n",
       " 'histoire',\n",
       " '1730',\n",
       " 'superb',\n",
       " 'examines',\n",
       " 'arriving',\n",
       " 'lana',\n",
       " 'colonies',\n",
       " 'dfb',\n",
       " 'resumed',\n",
       " 'frenzy',\n",
       " '[unused72]',\n",
       " 'bullying',\n",
       " '##ches',\n",
       " 'attendance',\n",
       " 'ᆷ',\n",
       " 'shadowy',\n",
       " 'nadia',\n",
       " 'munster',\n",
       " '##আ',\n",
       " 'thing',\n",
       " '242',\n",
       " 'nomination',\n",
       " '##nica',\n",
       " 'copyright',\n",
       " '##lind',\n",
       " 'grins',\n",
       " 'combining',\n",
       " 'grey',\n",
       " 'shelton',\n",
       " 'toilets',\n",
       " 'big',\n",
       " 'tossed',\n",
       " 'heck',\n",
       " 'normandy',\n",
       " 'tre',\n",
       " 'pity',\n",
       " 'porter',\n",
       " 'workout',\n",
       " '##rily',\n",
       " 'grew',\n",
       " 'flap',\n",
       " 'armament',\n",
       " '##ups',\n",
       " '##tlement',\n",
       " 'attended',\n",
       " '##att',\n",
       " 'imagine',\n",
       " 'replaced',\n",
       " '[unused361]',\n",
       " 'suspicious',\n",
       " 'ptolemy',\n",
       " '311',\n",
       " 'bland',\n",
       " '##lder',\n",
       " '[unused409]',\n",
       " 'rec',\n",
       " '[unused569]',\n",
       " 'prompting',\n",
       " 'linen',\n",
       " 'jules',\n",
       " '##rok',\n",
       " '##gara',\n",
       " 'nonstop',\n",
       " '##reus',\n",
       " '##jah',\n",
       " 'pilgrimage',\n",
       " '##swick',\n",
       " 'validity',\n",
       " '##ries',\n",
       " 'jordanian',\n",
       " 'handicap',\n",
       " '##graphs',\n",
       " 'bonnie',\n",
       " '##yar',\n",
       " 'deer',\n",
       " 'paramount',\n",
       " 'capacity',\n",
       " 'waking',\n",
       " 'unearthed',\n",
       " 'emerged',\n",
       " '[unused556]',\n",
       " '##mmon',\n",
       " '263',\n",
       " 'satisfied',\n",
       " 'woodlands',\n",
       " 'opera',\n",
       " 'trapped',\n",
       " 'numerous',\n",
       " '##raj',\n",
       " 'enamel',\n",
       " 'painters',\n",
       " '##grapher',\n",
       " 'norse']"
      ]
     },
     "execution_count": 12,
     "metadata": {},
     "output_type": "execute_result"
    }
   ],
   "source": [
    "import random\n",
    "# number of token in tokenizer\n",
    "print(f\"The number of tokens in the tokenizer : {len(tokenizer)}\")\n",
    "\n",
    "# sample of 100 tokens\n",
    "sample = random.sample(list(tokenizer.vocab.keys()), 100)\n",
    "sample\n"
   ]
  },
  {
   "cell_type": "markdown",
   "metadata": {},
   "source": [
    "The tokenizer splits sentences and transforms the elements (words or sub-words) into clues. \n",
    "\n",
    "BERT can process several sentences, but you need to tell it how the sentences (segments) have been split, with an index: 0 for the first sentence, 1 for the second. \n",
    "\n",
    "Two specific tokens must also be added: \n",
    "* CLS], a specific token used for sentence classification\n",
    "* SEP], the end of sentence token.\n",
    "\n",
    "#### Question\n",
    ">* Apply the bert_tokenize function to the 3 phases and keep the 3 vectors (index, token, segment).\n",
    ">* Display this information for each of the sentences and check that the word *plant* has the same token index in the two sentences in which it appears."
   ]
  },
  {
   "cell_type": "code",
   "execution_count": 13,
   "metadata": {},
   "outputs": [
    {
     "name": "stdout",
     "output_type": "stream",
     "text": [
      "1. [101, 1996, 3269, 2038, 2584, 2049, 29160, 2504, 1997, 2537, 1012, 102] \n",
      " ['[CLS]', 'the', 'plant', 'has', 'reached', 'its', 'maximal', 'level', 'of', 'production', '.', '[SEP]'] \n",
      " [1, 1, 1, 1, 1, 1, 1, 1, 1, 1, 1, 1]\n",
      "2. [101, 1996, 3765, 2024, 9240, 2503, 1996, 4713, 1012, 102] \n",
      " ['[CLS]', 'the', 'cars', 'are', 'assembled', 'inside', 'the', 'factory', '.', '[SEP]'] \n",
      " [1, 1, 1, 1, 1, 1, 1, 1, 1, 1]\n",
      "3. [101, 1037, 3269, 3791, 9325, 1998, 2300, 2000, 4982, 2092, 1012, 102] \n",
      " ['[CLS]', 'a', 'plant', 'needs', 'sunlight', 'and', 'water', 'to', 'grow', 'well', '.', '[SEP]'] \n",
      " [1, 1, 1, 1, 1, 1, 1, 1, 1, 1, 1, 1]\n"
     ]
    }
   ],
   "source": [
    "snt1 = \"The plant has reached its maximal level of production.\"\n",
    "snt2 = \"The cars are assembled inside the factory.\"\n",
    "snt3 = \"A plant needs sunlight and water to grow well.\"\n",
    "\n",
    "\n",
    "def bert_tokenize(snt):\n",
    "    \"\"\" Apply the BERT tokenizer to a list of words representing a sentence\n",
    "        and return 3 lists: \n",
    "        - list of token indx\n",
    "        - list of token for debugging, not used by the BERT model\n",
    "        - list of sentence index\n",
    "        \"\"\"\n",
    "    # Add the special tokens.\n",
    "    tagged_snt = \"[CLS] \" + snt + \" [SEP]\" \n",
    "    # Tokenize\n",
    "    tokenized_snt = tokenizer.tokenize(tagged_snt)\n",
    "    # convert tokens to indices\n",
    "    indexed_snt = tokenizer.convert_tokens_to_ids(tokenized_snt)\n",
    "    # mark the words in sentence.\n",
    "    segments_ids = [1] * len(tokenized_snt)\n",
    "\n",
    "    return (indexed_snt, tokenized_snt, segments_ids)\n",
    "\n",
    "\n",
    "\n",
    "\n",
    "# 3 phrases : \n",
    "indexed_snt1, tokenized_snt1, segments_ids1 = bert_tokenize(snt1)\n",
    "indexed_snt2, tokenized_snt2, segments_ids2 = bert_tokenize(snt2)\n",
    "indexed_snt3, tokenized_snt3, segments_ids3 = bert_tokenize(snt3)\n",
    "\n",
    "print(f\"1. {indexed_snt1} \\n {tokenized_snt1} \\n {segments_ids1}\")\n",
    "print(f\"2. {indexed_snt2} \\n {tokenized_snt2} \\n {segments_ids2}\")\n",
    "print(f\"3. {indexed_snt3} \\n {tokenized_snt3} \\n {segments_ids3}\")\n",
    "\n",
    "\n",
    "# YOUR CODE HERE\n",
    "\n"
   ]
  },
  {
   "cell_type": "markdown",
   "metadata": {},
   "source": [
    "## Inference\n",
    "\n",
    "To calculate embeddings, we need to make a prediction using the BERT model on a complete sentence. The *predict_hidden* function converts the token and segment index lists into a pytorch tensor and applies the model. \n",
    "\n",
    "The model used is a 12-layer model. We will use the last hidden layer of the model as an embedding to represent the words. Other solutions are possible, such as concatenation or averaging of several layers.\n",
    "\n",
    "\n",
    "#### Question\n",
    ">* Apply the model to each of the 3 sentences and store the resulting embeddings (tensors).\n",
    ">* Display the dimension of the resulting tensors. What is the dimension of the embedding vector for each word?"
   ]
  },
  {
   "cell_type": "code",
   "execution_count": 15,
   "metadata": {},
   "outputs": [
    {
     "name": "stdout",
     "output_type": "stream",
     "text": [
      "Dimensions of resulting tensors : \n",
      "1. torch.Size([12, 768])\n",
      "2. torch.Size([10, 768])\n",
      "3. torch.Size([12, 768])\n"
     ]
    }
   ],
   "source": [
    "\n",
    "def predict_hidden(indexed_snt, segments_ids):\n",
    "    \"\"\"Apply the BERT model to the input token indices and segment indices\n",
    "        and return the last hidden layer\n",
    "    \"\"\"\n",
    "    with torch.no_grad():\n",
    "        # Convert inputs to PyTorch tensors\n",
    "        tokens_tensor = torch.tensor([indexed_snt])\n",
    "        segments_tensors = torch.tensor([segments_ids])\n",
    "        outputs = model(tokens_tensor, segments_tensors)\n",
    "        hidden_states = outputs[2]\n",
    "        one_hidden_layer = hidden_states[12][0]\n",
    "        \n",
    "    return one_hidden_layer\n",
    "\n",
    "# YOUR CODE HERE\n",
    "\n",
    "hidden_states1 = predict_hidden(indexed_snt1, segments_ids1)\n",
    "hidden_states2 = predict_hidden(indexed_snt2, segments_ids2)\n",
    "hidden_states3 = predict_hidden(indexed_snt3, segments_ids3)\n",
    "\n",
    "print(\"Dimensions of resulting tensors : \")\n",
    "print(f\"1. {hidden_states1.shape}\")\n",
    "print(f\"2. {hidden_states2.shape}\")\n",
    "print(f\"3. {hidden_states3.shape}\")\n",
    "\n"
   ]
  },
  {
   "cell_type": "markdown",
   "metadata": {},
   "source": [
    "The hidden layer returned by the *predict_hidden* function is a tensor containing a context vector representing each token in the input sentence. We can use this vector to represent the meaning of this word as a function of its context. We're going to compare the representation of the polysemous word *plant* as a function of its context.\n",
    "\n",
    "#### Question\n",
    ">* Using the [cosine distance](https://docs.scipy.org/doc/scipy/reference/generated/scipy.spatial.distance.cosine.html), calculate the following distances:\n",
    "> * distance between *plant* in sentence 1 (plant-factory) and *plant* in sentence 3 (plant-vegetal)\n",
    "> * distance between *plant* in sentence 1 (plant-factory) and *factory* in sentence 2 (plant-vegetal) \n",
    "> * distance between *plant* in sentence 1 (plant-factory) and *production* in sentence 2 \n",
    "> * distance between *plant* in sentence 3 (plant-vegetal) and *production* in sentence 2 \n",
    "> How can we interpret these distances?"
   ]
  },
  {
   "cell_type": "code",
   "execution_count": 19,
   "metadata": {},
   "outputs": [
    {
     "name": "stdout",
     "output_type": "stream",
     "text": [
      "Distance between 'plant' in sentence 1 and 'plant' in sentence 3: 0.4986629823067885\n",
      "Distance between 'plant' in sentence 1 and 'factory' in sentence 2: 0.31225677852165246\n",
      "Distance between 'plant' in sentence 1 and 'production' in sentence 1: 0.24017348996737364\n",
      "Distance between 'plant' in sentence 3 and 'production' in sentence 1: 0.6200192801655662\n"
     ]
    }
   ],
   "source": [
    "from scipy.spatial.distance import cosine\n",
    "\n",
    "# YOUR CODE HERE\n",
    "\n",
    "plant_snt1 = hidden_states1[tokenized_snt1.index('plant')]\n",
    "plant_snt3 = hidden_states3[tokenized_snt3.index('plant')]\n",
    "factory_snt2 = hidden_states2[tokenized_snt2.index('factory')]\n",
    "production_snt1 = hidden_states1[tokenized_snt1.index('production')]\n",
    "\n",
    "distance_plant1_plant3 = cosine(plant_snt1, plant_snt3)\n",
    "distance_plant1_factory2 = cosine(plant_snt1, factory_snt2)\n",
    "distance_plant1_production1 = cosine(plant_snt1, production_snt1)\n",
    "distance_plant3_production1 = cosine(plant_snt3, production_snt1)\n",
    "\n",
    "print(f\"Distance between 'plant' in sentence 1 and 'plant' in sentence 3: {distance_plant1_plant3}\")\n",
    "print(f\"Distance between 'plant' in sentence 1 and 'factory' in sentence 2: {distance_plant1_factory2}\")\n",
    "print(f\"Distance between 'plant' in sentence 1 and 'production' in sentence 1: {distance_plant1_production1}\")\n",
    "print(f\"Distance between 'plant' in sentence 3 and 'production' in sentence 1: {distance_plant3_production1}\")"
   ]
  },
  {
   "cell_type": "markdown",
   "metadata": {},
   "source": [
    "### Interpretation of the result : \n",
    "- The distance between the words  depends on how the two words are used in the same or a different context."
   ]
  },
  {
   "cell_type": "markdown",
   "metadata": {},
   "source": []
  }
 ],
 "metadata": {
  "kernelspec": {
   "display_name": ".venv",
   "language": "python",
   "name": "python3"
  },
  "language_info": {
   "codemirror_mode": {
    "name": "ipython",
    "version": 3
   },
   "file_extension": ".py",
   "mimetype": "text/x-python",
   "name": "python",
   "nbconvert_exporter": "python",
   "pygments_lexer": "ipython3",
   "version": "3.9.21"
  }
 },
 "nbformat": 4,
 "nbformat_minor": 2
}
